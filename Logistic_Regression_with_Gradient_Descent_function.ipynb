{
  "nbformat": 4,
  "nbformat_minor": 0,
  "metadata": {
    "colab": {
      "provenance": [],
      "authorship_tag": "ABX9TyPNerMd4zI2LMY728nxEYWN",
      "include_colab_link": true
    },
    "kernelspec": {
      "name": "python3",
      "display_name": "Python 3"
    },
    "language_info": {
      "name": "python"
    }
  },
  "cells": [
    {
      "cell_type": "markdown",
      "metadata": {
        "id": "view-in-github",
        "colab_type": "text"
      },
      "source": [
        "<a href=\"https://colab.research.google.com/github/vedpd/ML-from-Scratch/blob/main/Logistic_Regression_with_Gradient_Descent_function.ipynb\" target=\"_parent\"><img src=\"https://colab.research.google.com/assets/colab-badge.svg\" alt=\"Open In Colab\"/></a>"
      ]
    },
    {
      "cell_type": "code",
      "execution_count": null,
      "metadata": {
        "id": "rCGzv76QOd0Z"
      },
      "outputs": [],
      "source": [
        "class LogisticRegression:\n",
        "  def __init__(self, learning_rate=0.01, max_iter=100, error_metric='log_loss'):\n",
        "    self.learning_rate = learning_rate\n",
        "    self.max_iter = max_iter\n",
        "    self.error_metric = error_metric\n",
        "    self.coefficients = None\n",
        "    self.bias = None\n",
        "\n",
        "  def fit(self, X, y):\n",
        "    # Initialize coefficients and bias\n",
        "    self.coefficients = np.zeros(X.shape[1])\n",
        "    self.bias = 0\n",
        "\n",
        "    for _ in range(self.max_iter):\n",
        "      self.coefficients, self.bias = gradient_descent(X, y, self.coefficients, self.bias, self.learning_rate, self.error_metric)\n",
        "\n",
        "  def gradient_descent(X, y, coefficients, bias, learning_rate, error_metric):\n",
        "    predictions = predict_proba(X, coefficients, bias)\n",
        "\n",
        "    if error_metric == 'log_loss':\n",
        "      gradients = X.T @ (predictions - y)\n",
        "    elif error_metric == 'hinge_loss':\n",
        "      gradients = X.T @ np.where(predictions >= y, predictions - y, 0)\n",
        "    else:\n",
        "      raise ValueError(f\"Invalid error metric: {error_metric}\")\n",
        "\n",
        "    coefficients -= learning_rate * gradients\n",
        "    bias -= learning_rate * np.mean(gradients)\n",
        "\n",
        "    return coefficients, bias\n",
        "\n",
        "  def log_loss(y_true, y_pred):\n",
        "    epsilon = 1e-15\n",
        "    y_pred = np.clip(y_pred, epsilon, 1 - epsilon)\n",
        "    return -np.mean(y_true * np.log(y_pred) + (1 - y_true) * np.log(1 - y_pred))\n",
        "\n",
        "  def hinge_loss(y_true, y_pred):\n",
        "    return np.mean(np.maximum(0, 1 - y_true * y_pred))\n",
        "\n",
        "  def predict_proba(self, X):\n",
        "    linear_combination = X @ self.coefficients + self.bias\n",
        "    return 1 / (1 + np.exp(-linear_combination))\n",
        "\n",
        "  def predict(self, X, threshold=0.5):\n",
        "    return (self.predict_proba(X) >= threshold).astype(int)"
      ]
    }
  ]
}