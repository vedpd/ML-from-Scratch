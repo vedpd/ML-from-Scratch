{
  "nbformat": 4,
  "nbformat_minor": 0,
  "metadata": {
    "colab": {
      "name": "LinearRegression_implementation.ipynb",
      "provenance": [],
      "collapsed_sections": [],
      "include_colab_link": true
    },
    "kernelspec": {
      "name": "python3",
      "display_name": "Python 3"
    }
  },
  "cells": [
    {
      "cell_type": "markdown",
      "metadata": {
        "id": "view-in-github",
        "colab_type": "text"
      },
      "source": [
        "<a href=\"https://colab.research.google.com/github/vedpd/ML-from-Scratch/blob/main/LinearRegression_implementation.ipynb\" target=\"_parent\"><img src=\"https://colab.research.google.com/assets/colab-badge.svg\" alt=\"Open In Colab\"/></a>"
      ]
    },
    {
      "cell_type": "markdown",
      "metadata": {
        "id": "uMNfslQDYOrB"
      },
      "source": [
        " Reference for the logic \n",
        " (https://machinelearningmastery.com/implement-simple-linear-regression-scratch-python/)"
      ]
    },
    {
      "cell_type": "markdown",
      "metadata": {
        "id": "K8R0xRogY2lj"
      },
      "source": [
        "**Equation:**\n",
        "\n",
        "y=b0 + b1 * x \n",
        "\n",
        "where\n",
        "\n",
        "b1 = sum((x(i) - mean(x))* (y(i) - mean(y))) / sum( x(i) - mean(x))^2 )\n",
        "\n",
        "b0 = mean(y) - b1  * mean(x)"
      ]
    },
    {
      "cell_type": "markdown",
      "metadata": {
        "id": "80czwWuMaQAE"
      },
      "source": [
        "#**Calculate mean and variance**"
      ]
    },
    {
      "cell_type": "code",
      "metadata": {
        "id": "8ghpDP7aY8LR"
      },
      "source": [
        "#estimate mean and variance\n",
        "\n",
        "def mean(values): \n",
        "  return sum(values)/ float(len(values))\n",
        "\n",
        "def variance(values,mean):  # variance is sum squared difference for each value from the mean value.\n",
        "  return sum([(x-mean)**2 for x in values])\n"
      ],
      "execution_count": null,
      "outputs": []
    },
    {
      "cell_type": "code",
      "metadata": {
        "id": "A17_TATdbMmx"
      },
      "source": [
        "#testing above functions on arbitrary dataset\n",
        "dataset =[[1,1],[2,3],[4,3],[3,2],[5,5]]\n",
        "\n",
        "x=[row[0] for row in dataset]\n",
        "y=[row[1] for row in dataset]"
      ],
      "execution_count": null,
      "outputs": []
    },
    {
      "cell_type": "code",
      "metadata": {
        "id": "noocSMPQbYqF"
      },
      "source": [
        "mean_x,mean_y = mean(x),mean(y)\n",
        "var_x,var_y = variance(x,mean_x),variance(y,mean_y)"
      ],
      "execution_count": null,
      "outputs": []
    },
    {
      "cell_type": "code",
      "metadata": {
        "id": "76Afk01ubjBF",
        "outputId": "97f34fe6-9cb3-436e-8f5e-fa8126ef4cf9",
        "colab": {
          "base_uri": "https://localhost:8080/",
          "height": 51
        }
      },
      "source": [
        "print('x stats : mean.=%.3f variance=% .3f' %(mean_x,var_x))\n",
        "print('y stats : mean.=%.3f variance=% .3f' %(mean_y,var_y))"
      ],
      "execution_count": null,
      "outputs": [
        {
          "output_type": "stream",
          "text": [
            "x stats : mean.=3.000 variance= 10.000\n",
            "y stats : mean.=2.800 variance= 8.800\n"
          ],
          "name": "stdout"
        }
      ]
    },
    {
      "cell_type": "markdown",
      "metadata": {
        "id": "cF4tN9WtcFR7"
      },
      "source": [
        "#**Calculate Covariance**\n",
        "\n",
        "The covariance of two groups of numbers describes how those numbers change together. (direction of changes)\n",
        "\n",
        "Covariance is a generalization of correlation. \n",
        "Correlation describes the relationship between two groups of numbers(from both strength and direction), whereas covariance can describe the relationship between two or more groups of numbers."
      ]
    },
    {
      "cell_type": "markdown",
      "metadata": {
        "id": "lFZDWBROgOUh"
      },
      "source": [
        "covariance = sum((x(i) - mean(x)) * (y(i)- mean(y))"
      ]
    },
    {
      "cell_type": "code",
      "metadata": {
        "id": "sP1aY_pqcLX3"
      },
      "source": [
        "def covariance(x,mean_x,y,mean_y):\n",
        "  covar = 0.0\n",
        "  for i in range(len(x)):\n",
        "    covar+=(x[i]-mean_x)*(y[i]-mean_y)\n",
        "  return covar"
      ],
      "execution_count": null,
      "outputs": []
    },
    {
      "cell_type": "code",
      "metadata": {
        "id": "8ezBjKWGgt_h",
        "outputId": "76f43dba-5ff0-477c-a074-2b043fbdff07",
        "colab": {
          "base_uri": "https://localhost:8080/",
          "height": 34
        }
      },
      "source": [
        "# testing the above function\n",
        "covar= covariance(x,mean_x,y,mean_y)\n",
        "print('Covariance: %.3f' %(covar))"
      ],
      "execution_count": null,
      "outputs": [
        {
          "output_type": "stream",
          "text": [
            "Covariance: 8.000\n"
          ],
          "name": "stdout"
        }
      ]
    },
    {
      "cell_type": "markdown",
      "metadata": {
        "id": "pnJUhnYzhTiJ"
      },
      "source": [
        "#**Estimating coefficients**\n",
        "\n",
        "b1 = sum((x(i) - mean(x))* (y(i) - mean(y))) / sum( x(i) - mean(x))^2 ) \n",
        "\n",
        "=> b1= covariance(x,y)/variance(x) or covariance of x\n",
        "\n",
        "*****************\n",
        "b0 = mean(y) - b1 * mean(x)"
      ]
    },
    {
      "cell_type": "code",
      "metadata": {
        "id": "HCud8uWSg4o0"
      },
      "source": [
        "# to calculate b1, we need covariance of x and y, which we have made as a function\n",
        "# to calculate variance of x, we have formulated another formula\n",
        "# with these values, we can calculate b1\n",
        "# post calculating b1 , we can calculate b0 = mean(y) - b1 * mean(x)\n",
        "\n",
        "def coefficients(dataset):\n",
        "  x= [row[0] for row in dataset]\n",
        "  y= [row[1] for row in dataset]\n",
        "\n",
        "  x_mean, y_mean=mean(x), mean(y)\n",
        "  b1= covariance(x,x_mean,y,y_mean) / variance (x,x_mean)\n",
        "  b0 = y_mean - b1* x_mean\n",
        "  return[b0,b1]"
      ],
      "execution_count": null,
      "outputs": []
    },
    {
      "cell_type": "code",
      "metadata": {
        "id": "ebLUnk0ciKY4"
      },
      "source": [
        "#using list unpacking\n",
        "b0,b1 = coefficients(dataset)"
      ],
      "execution_count": null,
      "outputs": []
    },
    {
      "cell_type": "code",
      "metadata": {
        "id": "u8OVE-57jM5T",
        "outputId": "b2b1fe0f-628e-4143-a408-4ef3d36a2ad4",
        "colab": {
          "base_uri": "https://localhost:8080/",
          "height": 34
        }
      },
      "source": [
        "print('Coefficients: B0 =%.3F , B1= %.3f' %(b0,b1))"
      ],
      "execution_count": null,
      "outputs": [
        {
          "output_type": "stream",
          "text": [
            "Coefficients: B0 =0.400 , B1= 0.800\n"
          ],
          "name": "stdout"
        }
      ]
    },
    {
      "cell_type": "markdown",
      "metadata": {
        "id": "LPwMq-ppje25"
      },
      "source": [
        "#**Make Predictions**"
      ]
    },
    {
      "cell_type": "code",
      "metadata": {
        "id": "syrbSfU7jdn9"
      },
      "source": [
        "def simple_linear_regression(train,test):\n",
        "  predictions = list()\n",
        "  b0,b1= coefficients(train)\n",
        "  for row in test:\n",
        "    yhat = b0+b1*row[0]\n",
        "    predictions.append(yhat)\n",
        "  return predictions"
      ],
      "execution_count": null,
      "outputs": []
    },
    {
      "cell_type": "markdown",
      "metadata": {
        "id": "6QGkHH1f4BIH"
      },
      "source": [
        "#**Model Evaluation**"
      ]
    },
    {
      "cell_type": "code",
      "metadata": {
        "id": "XOb4001T09SP"
      },
      "source": [
        "# evaluate your model: using RMSE metric\n",
        "from math import sqrt\n",
        "\n",
        "def rmse_metric(actual,predicted):\n",
        "  sum_error=0.0\n",
        "  for i in range(len(actual)):\n",
        "    prediction_error=predicted[i]-actual[i]\n",
        "    sum_error+=(prediction_error ** 2)\n",
        "  mean_error =sum_error/float(len(actual))\n",
        "  return sqrt(mean_error)"
      ],
      "execution_count": null,
      "outputs": []
    },
    {
      "cell_type": "code",
      "metadata": {
        "id": "vjJCa0p-12af"
      },
      "source": [
        "# evaluate your model's variance explained using R2 (R-squared) metric\n",
        "# formula for Rsquared= r squared = covariance of (x,y)/(variance of x * variance of y)\n",
        "def Rsquared(dataset):\n",
        "  x= [row[0] for row in dataset]\n",
        "  y= [row[1] for row in dataset]\n",
        "\n",
        "  x_mean, y_mean=mean(x), mean(y)\n",
        "  r = covariance(x,x_mean,y,y_mean) / (variance (x,x_mean) * variance(y,y_mean))\n",
        "  return pow(r,2)"
      ],
      "execution_count": null,
      "outputs": []
    },
    {
      "cell_type": "code",
      "metadata": {
        "id": "NrnBeu7E3EoX",
        "outputId": "c722fdb4-d8d9-431d-f3ed-fee07dd8ca93",
        "colab": {
          "base_uri": "https://localhost:8080/",
          "height": 34
        }
      },
      "source": [
        "r_squared = Rsquared(dataset)\n",
        "print(\"%.3f R-Squared value\" %(r_squared))"
      ],
      "execution_count": null,
      "outputs": [
        {
          "output_type": "stream",
          "text": [
            "0.008 R-Squared value\n"
          ],
          "name": "stdout"
        }
      ]
    },
    {
      "cell_type": "code",
      "metadata": {
        "id": "bzJ7F75O4Zhc"
      },
      "source": [
        "# evaluate regression algorithm on test dataset"
      ],
      "execution_count": null,
      "outputs": []
    }
  ]
}