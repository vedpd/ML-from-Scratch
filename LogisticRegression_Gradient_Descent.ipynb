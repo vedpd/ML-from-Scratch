{
  "nbformat": 4,
  "nbformat_minor": 0,
  "metadata": {
    "colab": {
      "provenance": [],
      "authorship_tag": "ABX9TyMUSjyi2XkT5Drx/xN520hd",
      "include_colab_link": true
    },
    "kernelspec": {
      "name": "python3",
      "display_name": "Python 3"
    },
    "language_info": {
      "name": "python"
    }
  },
  "cells": [
    {
      "cell_type": "markdown",
      "metadata": {
        "id": "view-in-github",
        "colab_type": "text"
      },
      "source": [
        "<a href=\"https://colab.research.google.com/github/vedpd/ML-from-Scratch/blob/main/LogisticRegression_Gradient_Descent.ipynb\" target=\"_parent\"><img src=\"https://colab.research.google.com/assets/colab-badge.svg\" alt=\"Open In Colab\"/></a>"
      ]
    },
    {
      "cell_type": "code",
      "execution_count": 31,
      "metadata": {
        "id": "QOrnofN6-sRb"
      },
      "outputs": [],
      "source": [
        "import numpy as np\n",
        "\n",
        "# def sigmoid(X):\n",
        "#   return 1 / (1 + np.exp(-X))\n",
        "\n",
        "class LogisticRegression():\n",
        "  def __init__(self,lr=0.001,n_iters=1000):\n",
        "    self.lr = lr\n",
        "    self.n_iters = n_iters\n",
        "    self.weights = None\n",
        "    self.bias = None\n",
        "\n",
        "  def fit(self, X, y):\n",
        "    n_samples, n_features = X.shape\n",
        "    self.weights = np.zeros(n_features)\n",
        "    self.bias = 0\n",
        "\n",
        "    for _ in range(self.n_iters):\n",
        "      linear_predictions = np.dot(X, self.weights) + self.bias\n",
        "      actual_predictions = self.sigmoid(linear_predictions)\n",
        "\n",
        "      # compute gradients\n",
        "      dw = (1/n_samples) *(np.dot(X.T,(actual_predictions - y)))\n",
        "      db = (1/n_samples) * np.sum(actual_predictions - y)\n",
        "\n",
        "      # update parameters\n",
        "      self.weights = self.weights - self.lr * dw\n",
        "      self.bias = self.bias - self.lr * db\n",
        "\n",
        "  def sigmoid(self,X):\n",
        "    return 1 / (1 + np.exp(-X))\n",
        "\n",
        "\n",
        "  def predict(self, X):\n",
        "    linear_preds = np.dot(X,self.weights) + self.bias #linear predictions\n",
        "    probs = self.sigmoid(linear_preds) # probability predictions\n",
        "    y_pred = [1 if i > 0.5 else 0 for i in probs] #class predictions\n",
        "\n",
        "    return y_pred\n",
        "\n",
        "  def predict_proba(self, X):\n",
        "    linear_combination = np.dot(X,self.weights) + self.bias\n",
        "    probs = self.sigmoid(linear_combination)\n",
        "    return probs\n"
      ]
    },
    {
      "cell_type": "code",
      "source": [
        "import numpy as np\n",
        "import pandas as pd\n",
        "import matplotlib.pyplot as plt\n",
        "from sklearn.model_selection import train_test_split\n",
        "from sklearn import datasets"
      ],
      "metadata": {
        "id": "x7JurjPDoPuy"
      },
      "execution_count": 32,
      "outputs": []
    },
    {
      "cell_type": "code",
      "source": [
        "bc = datasets.load_breast_cancer()\n",
        "X, y = bc.data, bc.target\n",
        "X_train, X_test, y_train, y_test = train_test_split(X, y, test_size=0.2, random_state=1234)"
      ],
      "metadata": {
        "id": "DUNje49Ioejk"
      },
      "execution_count": 33,
      "outputs": []
    },
    {
      "cell_type": "code",
      "source": [
        "bc.feature_names"
      ],
      "metadata": {
        "colab": {
          "base_uri": "https://localhost:8080/"
        },
        "id": "wSGo2glI01qI",
        "outputId": "865e4fcf-e4c5-4c67-80c7-c95e34d7297e"
      },
      "execution_count": 34,
      "outputs": [
        {
          "output_type": "execute_result",
          "data": {
            "text/plain": [
              "array(['mean radius', 'mean texture', 'mean perimeter', 'mean area',\n",
              "       'mean smoothness', 'mean compactness', 'mean concavity',\n",
              "       'mean concave points', 'mean symmetry', 'mean fractal dimension',\n",
              "       'radius error', 'texture error', 'perimeter error', 'area error',\n",
              "       'smoothness error', 'compactness error', 'concavity error',\n",
              "       'concave points error', 'symmetry error',\n",
              "       'fractal dimension error', 'worst radius', 'worst texture',\n",
              "       'worst perimeter', 'worst area', 'worst smoothness',\n",
              "       'worst compactness', 'worst concavity', 'worst concave points',\n",
              "       'worst symmetry', 'worst fractal dimension'], dtype='<U23')"
            ]
          },
          "metadata": {},
          "execution_count": 34
        }
      ]
    },
    {
      "cell_type": "code",
      "source": [
        "log_reg = LogisticRegression()\n",
        "log_reg.fit(X_train, y_train)"
      ],
      "metadata": {
        "colab": {
          "base_uri": "https://localhost:8080/"
        },
        "id": "VpU2w2gGooGT",
        "outputId": "4ed05fa4-0cf8-48a8-f1d1-6d07b9ac0e9f"
      },
      "execution_count": 35,
      "outputs": [
        {
          "output_type": "stream",
          "name": "stderr",
          "text": [
            "<ipython-input-31-c6297cde8416>:31: RuntimeWarning: overflow encountered in exp\n",
            "  return 1 / (1 + np.exp(-X))\n"
          ]
        }
      ]
    },
    {
      "cell_type": "code",
      "source": [
        "y_pred_train = log_reg.predict(X_train)"
      ],
      "metadata": {
        "colab": {
          "base_uri": "https://localhost:8080/"
        },
        "id": "TmDgd-FT8qOx",
        "outputId": "49bbaed8-eee6-4e15-86e9-392b1188438d"
      },
      "execution_count": 47,
      "outputs": [
        {
          "output_type": "stream",
          "name": "stderr",
          "text": [
            "<ipython-input-31-c6297cde8416>:31: RuntimeWarning: overflow encountered in exp\n",
            "  return 1 / (1 + np.exp(-X))\n"
          ]
        }
      ]
    },
    {
      "cell_type": "code",
      "source": [
        "y_pred = log_reg.predict(X_test)"
      ],
      "metadata": {
        "colab": {
          "base_uri": "https://localhost:8080/"
        },
        "id": "scNb0izCqsJ8",
        "outputId": "75b910af-ed72-4efa-92e3-0997a9c933ae"
      },
      "execution_count": 36,
      "outputs": [
        {
          "output_type": "stream",
          "name": "stderr",
          "text": [
            "<ipython-input-31-c6297cde8416>:31: RuntimeWarning: overflow encountered in exp\n",
            "  return 1 / (1 + np.exp(-X))\n"
          ]
        }
      ]
    },
    {
      "cell_type": "code",
      "source": [
        "y_prob = log_reg.predict_proba(X_test)\n",
        "\n",
        "y_prob"
      ],
      "metadata": {
        "colab": {
          "base_uri": "https://localhost:8080/"
        },
        "id": "G-KZnO248AN-",
        "outputId": "1b9e1f99-0801-4405-da0e-44468e08a86b"
      },
      "execution_count": 37,
      "outputs": [
        {
          "output_type": "stream",
          "name": "stderr",
          "text": [
            "<ipython-input-31-c6297cde8416>:31: RuntimeWarning: overflow encountered in exp\n",
            "  return 1 / (1 + np.exp(-X))\n"
          ]
        },
        {
          "output_type": "execute_result",
          "data": {
            "text/plain": [
              "array([1.00000000e+000, 1.00000000e+000, 1.00000000e+000, 1.00000000e+000,\n",
              "       9.97518405e-001, 1.00000000e+000, 2.49510158e-040, 1.00000000e+000,\n",
              "       6.59242825e-243, 4.15952498e-151, 0.00000000e+000, 4.49086206e-009,\n",
              "       1.00000000e+000, 6.92194505e-018, 1.00000000e+000, 2.29986108e-135,\n",
              "       1.00000000e+000, 1.00000000e+000, 1.00000000e+000, 1.04198245e-164,\n",
              "       9.99999945e-001, 1.97490194e-080, 4.34436322e-188, 0.00000000e+000,\n",
              "       1.45636813e-249, 9.45667407e-039, 4.40254972e-077, 1.00000000e+000,\n",
              "       1.00000000e+000, 1.00000000e+000, 1.00000000e+000, 1.00000000e+000,\n",
              "       1.40997869e-077, 9.99998806e-001, 1.00000000e+000, 9.99999990e-001,\n",
              "       9.99999996e-001, 2.34476908e-078, 5.52906870e-042, 1.00000000e+000,\n",
              "       5.02131333e-110, 1.00000000e+000, 6.15471587e-288, 3.38775863e-012,\n",
              "       1.00000000e+000, 1.00000000e+000, 1.00000000e+000, 1.87192084e-030,\n",
              "       1.37699542e-275, 1.71495280e-009, 1.00000000e+000, 9.99999992e-001,\n",
              "       1.00000000e+000, 4.57674659e-170, 4.25028200e-042, 1.00000000e+000,\n",
              "       1.00000000e+000, 1.00000000e+000, 1.00000000e+000, 2.57455148e-071,\n",
              "       1.00000000e+000, 1.00000000e+000, 9.99999995e-001, 1.00000000e+000,\n",
              "       1.00000000e+000, 3.24516233e-122, 1.20082947e-301, 1.00000000e+000,\n",
              "       1.00000000e+000, 4.86132171e-031, 1.00000000e+000, 1.94191756e-201,\n",
              "       1.00000000e+000, 7.91581739e-001, 1.10817010e-001, 1.00000000e+000,\n",
              "       1.00000000e+000, 2.75130981e-195, 1.00000000e+000, 1.76265242e-079,\n",
              "       1.00000000e+000, 1.00000000e+000, 1.75061341e-002, 9.99999999e-001,\n",
              "       2.12972665e-079, 3.11888135e-134, 1.55311646e-119, 1.61440541e-155,\n",
              "       2.20938457e-032, 1.00000000e+000, 1.00000000e+000, 3.16198650e-001,\n",
              "       1.00000000e+000, 1.13188054e-302, 1.12664779e-013, 1.00000000e+000,\n",
              "       1.00000000e+000, 9.99999974e-001, 1.00000000e+000, 1.00000000e+000,\n",
              "       1.34340808e-169, 4.86034774e-261, 1.00000000e+000, 1.00000000e+000,\n",
              "       7.43276295e-096, 1.00000000e+000, 1.00000000e+000, 6.11500382e-120,\n",
              "       8.83820740e-015, 9.99999999e-001, 1.17640792e-116, 5.04462321e-061,\n",
              "       8.10045647e-118, 0.00000000e+000])"
            ]
          },
          "metadata": {},
          "execution_count": 37
        }
      ]
    },
    {
      "cell_type": "code",
      "source": [
        "#metrics to validate\n",
        "def accuracy(y_pred,y_test):\n",
        "  return np.sum(y_pred == y_test)/len(y_test)\n",
        "\n",
        "\n",
        "acc = accuracy(y_pred,y_test)\n",
        "print(acc)"
      ],
      "metadata": {
        "colab": {
          "base_uri": "https://localhost:8080/"
        },
        "id": "isPGoslloqzk",
        "outputId": "f06dc83a-8e77-4e61-905a-c37210cc4b2c"
      },
      "execution_count": 38,
      "outputs": [
        {
          "output_type": "stream",
          "name": "stdout",
          "text": [
            "0.8947368421052632\n"
          ]
        }
      ]
    },
    {
      "cell_type": "code",
      "source": [
        "acc_train = accuracy(y_pred_train,y_train)\n",
        "print(acc_train)"
      ],
      "metadata": {
        "colab": {
          "base_uri": "https://localhost:8080/"
        },
        "id": "RaiVerAX8uMZ",
        "outputId": "c7be80d8-966a-4110-8c99-e50a2b8d5210"
      },
      "execution_count": 48,
      "outputs": [
        {
          "output_type": "stream",
          "name": "stdout",
          "text": [
            "0.8813186813186813\n"
          ]
        }
      ]
    },
    {
      "cell_type": "code",
      "source": [
        "def recall(y_pred,y_test):\n",
        "  true_positive = np.sum((y_pred == 1) & (y_test == 1))\n",
        "  false_negative = np.sum((y_pred == 0) & (y_test == 1))\n",
        "\n",
        "  if true_positive + false_negative == 0:\n",
        "      return 0\n",
        "  else:\n",
        "      return true_positive / (true_positive + false_negative)\n",
        "\n"
      ],
      "metadata": {
        "id": "hc0BnwuBqjfB"
      },
      "execution_count": 49,
      "outputs": []
    },
    {
      "cell_type": "code",
      "source": [
        "rec = recall(y_pred,y_test)\n",
        "print(rec)"
      ],
      "metadata": {
        "colab": {
          "base_uri": "https://localhost:8080/"
        },
        "id": "oIpbSvlIsa-Z",
        "outputId": "e4de33f5-68a6-4364-ac84-e48b83f5af17"
      },
      "execution_count": 40,
      "outputs": [
        {
          "output_type": "stream",
          "name": "stdout",
          "text": [
            "0\n"
          ]
        }
      ]
    },
    {
      "cell_type": "code",
      "source": [
        "def precision(y_pred,y_test):\n",
        "  true_positive = np.sum((y_pred == 1) & (y_test == 1))\n",
        "  false_positive = np.sum((y_pred == 1) & (y_test == 0))\n",
        "\n",
        "  if true_positive + false_positive == 0:\n",
        "      return 0\n",
        "  else:\n",
        "      return true_positive / (true_positive + false_positive)\n",
        ""
      ],
      "metadata": {
        "id": "19ahhzfgtBAg"
      },
      "execution_count": 41,
      "outputs": []
    },
    {
      "cell_type": "code",
      "source": [
        "prec = precision(y_pred,y_test)\n",
        "print(prec)"
      ],
      "metadata": {
        "colab": {
          "base_uri": "https://localhost:8080/"
        },
        "id": "ma3UgYh6tJ4m",
        "outputId": "4433ef7a-114a-4a72-87ae-a69f2a6d3623"
      },
      "execution_count": 42,
      "outputs": [
        {
          "output_type": "stream",
          "name": "stdout",
          "text": [
            "0\n"
          ]
        }
      ]
    },
    {
      "cell_type": "code",
      "source": [
        "def eval_confusion_matrix(y_pred,y_test):\n",
        "  confusion_matrix = [[0, 0],\n",
        "                   [0, 0]]\n",
        "\n",
        "  for actual, predicted in zip(y_test, y_pred):\n",
        "    confusion_matrix[actual][predicted] += 1\n",
        "\n",
        "  tn = confusion_matrix[0][0]\n",
        "  fp = confusion_matrix[0][1]\n",
        "  fn = confusion_matrix[1][0]\n",
        "  tp = confusion_matrix[1][1]\n",
        "\n",
        "  print(f\"Confusion Matrix:\\n{confusion_matrix}\")"
      ],
      "metadata": {
        "id": "nqkFQHQQtNdF"
      },
      "execution_count": 43,
      "outputs": []
    },
    {
      "cell_type": "code",
      "source": [
        "eval_confusion_matrix(y_pred,y_test)"
      ],
      "metadata": {
        "colab": {
          "base_uri": "https://localhost:8080/"
        },
        "id": "Kt9B88MGtyUx",
        "outputId": "c4e46232-768a-496a-fca8-a8f4182d583c"
      },
      "execution_count": 44,
      "outputs": [
        {
          "output_type": "stream",
          "name": "stdout",
          "text": [
            "Confusion Matrix:\n",
            "[[42, 3], [9, 60]]\n"
          ]
        }
      ]
    },
    {
      "cell_type": "code",
      "source": [
        "coefficients = pd.DataFrame(data=log_reg.weights, index=bc.feature_names, columns=['Coefficient'])\n",
        "bias = pd.DataFrame(data=[log_reg.bias], columns=['Bias'], index=['Bias'])"
      ],
      "metadata": {
        "id": "t0vEpezxt1Y5"
      },
      "execution_count": 45,
      "outputs": []
    },
    {
      "cell_type": "code",
      "source": [
        "coefficients, bias"
      ],
      "metadata": {
        "colab": {
          "base_uri": "https://localhost:8080/"
        },
        "id": "BZW8HQJf0EeX",
        "outputId": "8684fe97-27ce-49a7-cc0e-b619fe88b975"
      },
      "execution_count": 46,
      "outputs": [
        {
          "output_type": "execute_result",
          "data": {
            "text/plain": [
              "(                         Coefficient\n",
              " mean radius                 0.306904\n",
              " mean texture                0.414774\n",
              " mean perimeter              1.775077\n",
              " mean area                   0.658122\n",
              " mean smoothness             0.002741\n",
              " mean compactness           -0.001554\n",
              " mean concavity             -0.005842\n",
              " mean concave points        -0.002422\n",
              " mean symmetry               0.005359\n",
              " mean fractal dimension      0.002207\n",
              " radius error                0.001380\n",
              " texture error               0.028726\n",
              " perimeter error            -0.011470\n",
              " area error                 -0.802903\n",
              " smoothness error            0.000135\n",
              " compactness error          -0.000472\n",
              " concavity error            -0.000749\n",
              " concave points error       -0.000103\n",
              " symmetry error              0.000532\n",
              " fractal dimension error     0.000015\n",
              " worst radius                0.325176\n",
              " worst texture               0.525958\n",
              " worst perimeter             1.781263\n",
              " worst area                 -1.007241\n",
              " worst smoothness            0.003371\n",
              " worst compactness          -0.006584\n",
              " worst concavity            -0.012408\n",
              " worst concave points       -0.002855\n",
              " worst symmetry              0.007517\n",
              " worst fractal dimension     0.001914,\n",
              "           Bias\n",
              " Bias  0.040033)"
            ]
          },
          "metadata": {},
          "execution_count": 46
        }
      ]
    },
    {
      "cell_type": "code",
      "source": [
        "log_odds = pd.concat([coefficients, bias], axis=0)\n",
        "log_odds"
      ],
      "metadata": {
        "colab": {
          "base_uri": "https://localhost:8080/",
          "height": 1000
        },
        "id": "YkIRK6Dz0F6G",
        "outputId": "c04288bb-7b82-4096-fc21-c35619504236"
      },
      "execution_count": 19,
      "outputs": [
        {
          "output_type": "execute_result",
          "data": {
            "text/plain": [
              "                         Coefficient      Bias\n",
              "mean radius                 0.306904       NaN\n",
              "mean texture                0.414774       NaN\n",
              "mean perimeter              1.775077       NaN\n",
              "mean area                   0.658122       NaN\n",
              "mean smoothness             0.002741       NaN\n",
              "mean compactness           -0.001554       NaN\n",
              "mean concavity             -0.005842       NaN\n",
              "mean concave points        -0.002422       NaN\n",
              "mean symmetry               0.005359       NaN\n",
              "mean fractal dimension      0.002207       NaN\n",
              "radius error                0.001380       NaN\n",
              "texture error               0.028726       NaN\n",
              "perimeter error            -0.011470       NaN\n",
              "area error                 -0.802903       NaN\n",
              "smoothness error            0.000135       NaN\n",
              "compactness error          -0.000472       NaN\n",
              "concavity error            -0.000749       NaN\n",
              "concave points error       -0.000103       NaN\n",
              "symmetry error              0.000532       NaN\n",
              "fractal dimension error     0.000015       NaN\n",
              "worst radius                0.325176       NaN\n",
              "worst texture               0.525958       NaN\n",
              "worst perimeter             1.781263       NaN\n",
              "worst area                 -1.007241       NaN\n",
              "worst smoothness            0.003371       NaN\n",
              "worst compactness          -0.006584       NaN\n",
              "worst concavity            -0.012408       NaN\n",
              "worst concave points       -0.002855       NaN\n",
              "worst symmetry              0.007517       NaN\n",
              "worst fractal dimension     0.001914       NaN\n",
              "Bias                             NaN  0.040033"
            ],
            "text/html": [
              "\n",
              "  <div id=\"df-e09338fb-b2a2-40fa-a5f8-0bca492a41f0\" class=\"colab-df-container\">\n",
              "    <div>\n",
              "<style scoped>\n",
              "    .dataframe tbody tr th:only-of-type {\n",
              "        vertical-align: middle;\n",
              "    }\n",
              "\n",
              "    .dataframe tbody tr th {\n",
              "        vertical-align: top;\n",
              "    }\n",
              "\n",
              "    .dataframe thead th {\n",
              "        text-align: right;\n",
              "    }\n",
              "</style>\n",
              "<table border=\"1\" class=\"dataframe\">\n",
              "  <thead>\n",
              "    <tr style=\"text-align: right;\">\n",
              "      <th></th>\n",
              "      <th>Coefficient</th>\n",
              "      <th>Bias</th>\n",
              "    </tr>\n",
              "  </thead>\n",
              "  <tbody>\n",
              "    <tr>\n",
              "      <th>mean radius</th>\n",
              "      <td>0.306904</td>\n",
              "      <td>NaN</td>\n",
              "    </tr>\n",
              "    <tr>\n",
              "      <th>mean texture</th>\n",
              "      <td>0.414774</td>\n",
              "      <td>NaN</td>\n",
              "    </tr>\n",
              "    <tr>\n",
              "      <th>mean perimeter</th>\n",
              "      <td>1.775077</td>\n",
              "      <td>NaN</td>\n",
              "    </tr>\n",
              "    <tr>\n",
              "      <th>mean area</th>\n",
              "      <td>0.658122</td>\n",
              "      <td>NaN</td>\n",
              "    </tr>\n",
              "    <tr>\n",
              "      <th>mean smoothness</th>\n",
              "      <td>0.002741</td>\n",
              "      <td>NaN</td>\n",
              "    </tr>\n",
              "    <tr>\n",
              "      <th>mean compactness</th>\n",
              "      <td>-0.001554</td>\n",
              "      <td>NaN</td>\n",
              "    </tr>\n",
              "    <tr>\n",
              "      <th>mean concavity</th>\n",
              "      <td>-0.005842</td>\n",
              "      <td>NaN</td>\n",
              "    </tr>\n",
              "    <tr>\n",
              "      <th>mean concave points</th>\n",
              "      <td>-0.002422</td>\n",
              "      <td>NaN</td>\n",
              "    </tr>\n",
              "    <tr>\n",
              "      <th>mean symmetry</th>\n",
              "      <td>0.005359</td>\n",
              "      <td>NaN</td>\n",
              "    </tr>\n",
              "    <tr>\n",
              "      <th>mean fractal dimension</th>\n",
              "      <td>0.002207</td>\n",
              "      <td>NaN</td>\n",
              "    </tr>\n",
              "    <tr>\n",
              "      <th>radius error</th>\n",
              "      <td>0.001380</td>\n",
              "      <td>NaN</td>\n",
              "    </tr>\n",
              "    <tr>\n",
              "      <th>texture error</th>\n",
              "      <td>0.028726</td>\n",
              "      <td>NaN</td>\n",
              "    </tr>\n",
              "    <tr>\n",
              "      <th>perimeter error</th>\n",
              "      <td>-0.011470</td>\n",
              "      <td>NaN</td>\n",
              "    </tr>\n",
              "    <tr>\n",
              "      <th>area error</th>\n",
              "      <td>-0.802903</td>\n",
              "      <td>NaN</td>\n",
              "    </tr>\n",
              "    <tr>\n",
              "      <th>smoothness error</th>\n",
              "      <td>0.000135</td>\n",
              "      <td>NaN</td>\n",
              "    </tr>\n",
              "    <tr>\n",
              "      <th>compactness error</th>\n",
              "      <td>-0.000472</td>\n",
              "      <td>NaN</td>\n",
              "    </tr>\n",
              "    <tr>\n",
              "      <th>concavity error</th>\n",
              "      <td>-0.000749</td>\n",
              "      <td>NaN</td>\n",
              "    </tr>\n",
              "    <tr>\n",
              "      <th>concave points error</th>\n",
              "      <td>-0.000103</td>\n",
              "      <td>NaN</td>\n",
              "    </tr>\n",
              "    <tr>\n",
              "      <th>symmetry error</th>\n",
              "      <td>0.000532</td>\n",
              "      <td>NaN</td>\n",
              "    </tr>\n",
              "    <tr>\n",
              "      <th>fractal dimension error</th>\n",
              "      <td>0.000015</td>\n",
              "      <td>NaN</td>\n",
              "    </tr>\n",
              "    <tr>\n",
              "      <th>worst radius</th>\n",
              "      <td>0.325176</td>\n",
              "      <td>NaN</td>\n",
              "    </tr>\n",
              "    <tr>\n",
              "      <th>worst texture</th>\n",
              "      <td>0.525958</td>\n",
              "      <td>NaN</td>\n",
              "    </tr>\n",
              "    <tr>\n",
              "      <th>worst perimeter</th>\n",
              "      <td>1.781263</td>\n",
              "      <td>NaN</td>\n",
              "    </tr>\n",
              "    <tr>\n",
              "      <th>worst area</th>\n",
              "      <td>-1.007241</td>\n",
              "      <td>NaN</td>\n",
              "    </tr>\n",
              "    <tr>\n",
              "      <th>worst smoothness</th>\n",
              "      <td>0.003371</td>\n",
              "      <td>NaN</td>\n",
              "    </tr>\n",
              "    <tr>\n",
              "      <th>worst compactness</th>\n",
              "      <td>-0.006584</td>\n",
              "      <td>NaN</td>\n",
              "    </tr>\n",
              "    <tr>\n",
              "      <th>worst concavity</th>\n",
              "      <td>-0.012408</td>\n",
              "      <td>NaN</td>\n",
              "    </tr>\n",
              "    <tr>\n",
              "      <th>worst concave points</th>\n",
              "      <td>-0.002855</td>\n",
              "      <td>NaN</td>\n",
              "    </tr>\n",
              "    <tr>\n",
              "      <th>worst symmetry</th>\n",
              "      <td>0.007517</td>\n",
              "      <td>NaN</td>\n",
              "    </tr>\n",
              "    <tr>\n",
              "      <th>worst fractal dimension</th>\n",
              "      <td>0.001914</td>\n",
              "      <td>NaN</td>\n",
              "    </tr>\n",
              "    <tr>\n",
              "      <th>Bias</th>\n",
              "      <td>NaN</td>\n",
              "      <td>0.040033</td>\n",
              "    </tr>\n",
              "  </tbody>\n",
              "</table>\n",
              "</div>\n",
              "    <div class=\"colab-df-buttons\">\n",
              "\n",
              "  <div class=\"colab-df-container\">\n",
              "    <button class=\"colab-df-convert\" onclick=\"convertToInteractive('df-e09338fb-b2a2-40fa-a5f8-0bca492a41f0')\"\n",
              "            title=\"Convert this dataframe to an interactive table.\"\n",
              "            style=\"display:none;\">\n",
              "\n",
              "  <svg xmlns=\"http://www.w3.org/2000/svg\" height=\"24px\" viewBox=\"0 -960 960 960\">\n",
              "    <path d=\"M120-120v-720h720v720H120Zm60-500h600v-160H180v160Zm220 220h160v-160H400v160Zm0 220h160v-160H400v160ZM180-400h160v-160H180v160Zm440 0h160v-160H620v160ZM180-180h160v-160H180v160Zm440 0h160v-160H620v160Z\"/>\n",
              "  </svg>\n",
              "    </button>\n",
              "\n",
              "  <style>\n",
              "    .colab-df-container {\n",
              "      display:flex;\n",
              "      gap: 12px;\n",
              "    }\n",
              "\n",
              "    .colab-df-convert {\n",
              "      background-color: #E8F0FE;\n",
              "      border: none;\n",
              "      border-radius: 50%;\n",
              "      cursor: pointer;\n",
              "      display: none;\n",
              "      fill: #1967D2;\n",
              "      height: 32px;\n",
              "      padding: 0 0 0 0;\n",
              "      width: 32px;\n",
              "    }\n",
              "\n",
              "    .colab-df-convert:hover {\n",
              "      background-color: #E2EBFA;\n",
              "      box-shadow: 0px 1px 2px rgba(60, 64, 67, 0.3), 0px 1px 3px 1px rgba(60, 64, 67, 0.15);\n",
              "      fill: #174EA6;\n",
              "    }\n",
              "\n",
              "    .colab-df-buttons div {\n",
              "      margin-bottom: 4px;\n",
              "    }\n",
              "\n",
              "    [theme=dark] .colab-df-convert {\n",
              "      background-color: #3B4455;\n",
              "      fill: #D2E3FC;\n",
              "    }\n",
              "\n",
              "    [theme=dark] .colab-df-convert:hover {\n",
              "      background-color: #434B5C;\n",
              "      box-shadow: 0px 1px 3px 1px rgba(0, 0, 0, 0.15);\n",
              "      filter: drop-shadow(0px 1px 2px rgba(0, 0, 0, 0.3));\n",
              "      fill: #FFFFFF;\n",
              "    }\n",
              "  </style>\n",
              "\n",
              "    <script>\n",
              "      const buttonEl =\n",
              "        document.querySelector('#df-e09338fb-b2a2-40fa-a5f8-0bca492a41f0 button.colab-df-convert');\n",
              "      buttonEl.style.display =\n",
              "        google.colab.kernel.accessAllowed ? 'block' : 'none';\n",
              "\n",
              "      async function convertToInteractive(key) {\n",
              "        const element = document.querySelector('#df-e09338fb-b2a2-40fa-a5f8-0bca492a41f0');\n",
              "        const dataTable =\n",
              "          await google.colab.kernel.invokeFunction('convertToInteractive',\n",
              "                                                    [key], {});\n",
              "        if (!dataTable) return;\n",
              "\n",
              "        const docLinkHtml = 'Like what you see? Visit the ' +\n",
              "          '<a target=\"_blank\" href=https://colab.research.google.com/notebooks/data_table.ipynb>data table notebook</a>'\n",
              "          + ' to learn more about interactive tables.';\n",
              "        element.innerHTML = '';\n",
              "        dataTable['output_type'] = 'display_data';\n",
              "        await google.colab.output.renderOutput(dataTable, element);\n",
              "        const docLink = document.createElement('div');\n",
              "        docLink.innerHTML = docLinkHtml;\n",
              "        element.appendChild(docLink);\n",
              "      }\n",
              "    </script>\n",
              "  </div>\n",
              "\n",
              "\n",
              "<div id=\"df-7f5c92f4-f645-4cfb-a72d-24951b1a7f0f\">\n",
              "  <button class=\"colab-df-quickchart\" onclick=\"quickchart('df-7f5c92f4-f645-4cfb-a72d-24951b1a7f0f')\"\n",
              "            title=\"Suggest charts\"\n",
              "            style=\"display:none;\">\n",
              "\n",
              "<svg xmlns=\"http://www.w3.org/2000/svg\" height=\"24px\"viewBox=\"0 0 24 24\"\n",
              "     width=\"24px\">\n",
              "    <g>\n",
              "        <path d=\"M19 3H5c-1.1 0-2 .9-2 2v14c0 1.1.9 2 2 2h14c1.1 0 2-.9 2-2V5c0-1.1-.9-2-2-2zM9 17H7v-7h2v7zm4 0h-2V7h2v10zm4 0h-2v-4h2v4z\"/>\n",
              "    </g>\n",
              "</svg>\n",
              "  </button>\n",
              "\n",
              "<style>\n",
              "  .colab-df-quickchart {\n",
              "      --bg-color: #E8F0FE;\n",
              "      --fill-color: #1967D2;\n",
              "      --hover-bg-color: #E2EBFA;\n",
              "      --hover-fill-color: #174EA6;\n",
              "      --disabled-fill-color: #AAA;\n",
              "      --disabled-bg-color: #DDD;\n",
              "  }\n",
              "\n",
              "  [theme=dark] .colab-df-quickchart {\n",
              "      --bg-color: #3B4455;\n",
              "      --fill-color: #D2E3FC;\n",
              "      --hover-bg-color: #434B5C;\n",
              "      --hover-fill-color: #FFFFFF;\n",
              "      --disabled-bg-color: #3B4455;\n",
              "      --disabled-fill-color: #666;\n",
              "  }\n",
              "\n",
              "  .colab-df-quickchart {\n",
              "    background-color: var(--bg-color);\n",
              "    border: none;\n",
              "    border-radius: 50%;\n",
              "    cursor: pointer;\n",
              "    display: none;\n",
              "    fill: var(--fill-color);\n",
              "    height: 32px;\n",
              "    padding: 0;\n",
              "    width: 32px;\n",
              "  }\n",
              "\n",
              "  .colab-df-quickchart:hover {\n",
              "    background-color: var(--hover-bg-color);\n",
              "    box-shadow: 0 1px 2px rgba(60, 64, 67, 0.3), 0 1px 3px 1px rgba(60, 64, 67, 0.15);\n",
              "    fill: var(--button-hover-fill-color);\n",
              "  }\n",
              "\n",
              "  .colab-df-quickchart-complete:disabled,\n",
              "  .colab-df-quickchart-complete:disabled:hover {\n",
              "    background-color: var(--disabled-bg-color);\n",
              "    fill: var(--disabled-fill-color);\n",
              "    box-shadow: none;\n",
              "  }\n",
              "\n",
              "  .colab-df-spinner {\n",
              "    border: 2px solid var(--fill-color);\n",
              "    border-color: transparent;\n",
              "    border-bottom-color: var(--fill-color);\n",
              "    animation:\n",
              "      spin 1s steps(1) infinite;\n",
              "  }\n",
              "\n",
              "  @keyframes spin {\n",
              "    0% {\n",
              "      border-color: transparent;\n",
              "      border-bottom-color: var(--fill-color);\n",
              "      border-left-color: var(--fill-color);\n",
              "    }\n",
              "    20% {\n",
              "      border-color: transparent;\n",
              "      border-left-color: var(--fill-color);\n",
              "      border-top-color: var(--fill-color);\n",
              "    }\n",
              "    30% {\n",
              "      border-color: transparent;\n",
              "      border-left-color: var(--fill-color);\n",
              "      border-top-color: var(--fill-color);\n",
              "      border-right-color: var(--fill-color);\n",
              "    }\n",
              "    40% {\n",
              "      border-color: transparent;\n",
              "      border-right-color: var(--fill-color);\n",
              "      border-top-color: var(--fill-color);\n",
              "    }\n",
              "    60% {\n",
              "      border-color: transparent;\n",
              "      border-right-color: var(--fill-color);\n",
              "    }\n",
              "    80% {\n",
              "      border-color: transparent;\n",
              "      border-right-color: var(--fill-color);\n",
              "      border-bottom-color: var(--fill-color);\n",
              "    }\n",
              "    90% {\n",
              "      border-color: transparent;\n",
              "      border-bottom-color: var(--fill-color);\n",
              "    }\n",
              "  }\n",
              "</style>\n",
              "\n",
              "  <script>\n",
              "    async function quickchart(key) {\n",
              "      const quickchartButtonEl =\n",
              "        document.querySelector('#' + key + ' button');\n",
              "      quickchartButtonEl.disabled = true;  // To prevent multiple clicks.\n",
              "      quickchartButtonEl.classList.add('colab-df-spinner');\n",
              "      try {\n",
              "        const charts = await google.colab.kernel.invokeFunction(\n",
              "            'suggestCharts', [key], {});\n",
              "      } catch (error) {\n",
              "        console.error('Error during call to suggestCharts:', error);\n",
              "      }\n",
              "      quickchartButtonEl.classList.remove('colab-df-spinner');\n",
              "      quickchartButtonEl.classList.add('colab-df-quickchart-complete');\n",
              "    }\n",
              "    (() => {\n",
              "      let quickchartButtonEl =\n",
              "        document.querySelector('#df-7f5c92f4-f645-4cfb-a72d-24951b1a7f0f button');\n",
              "      quickchartButtonEl.style.display =\n",
              "        google.colab.kernel.accessAllowed ? 'block' : 'none';\n",
              "    })();\n",
              "  </script>\n",
              "</div>\n",
              "\n",
              "  <div id=\"id_d300cc29-cc99-4017-ade2-28b9509f142e\">\n",
              "    <style>\n",
              "      .colab-df-generate {\n",
              "        background-color: #E8F0FE;\n",
              "        border: none;\n",
              "        border-radius: 50%;\n",
              "        cursor: pointer;\n",
              "        display: none;\n",
              "        fill: #1967D2;\n",
              "        height: 32px;\n",
              "        padding: 0 0 0 0;\n",
              "        width: 32px;\n",
              "      }\n",
              "\n",
              "      .colab-df-generate:hover {\n",
              "        background-color: #E2EBFA;\n",
              "        box-shadow: 0px 1px 2px rgba(60, 64, 67, 0.3), 0px 1px 3px 1px rgba(60, 64, 67, 0.15);\n",
              "        fill: #174EA6;\n",
              "      }\n",
              "\n",
              "      [theme=dark] .colab-df-generate {\n",
              "        background-color: #3B4455;\n",
              "        fill: #D2E3FC;\n",
              "      }\n",
              "\n",
              "      [theme=dark] .colab-df-generate:hover {\n",
              "        background-color: #434B5C;\n",
              "        box-shadow: 0px 1px 3px 1px rgba(0, 0, 0, 0.15);\n",
              "        filter: drop-shadow(0px 1px 2px rgba(0, 0, 0, 0.3));\n",
              "        fill: #FFFFFF;\n",
              "      }\n",
              "    </style>\n",
              "    <button class=\"colab-df-generate\" onclick=\"generateWithVariable('log_odds')\"\n",
              "            title=\"Generate code using this dataframe.\"\n",
              "            style=\"display:none;\">\n",
              "\n",
              "  <svg xmlns=\"http://www.w3.org/2000/svg\" height=\"24px\"viewBox=\"0 0 24 24\"\n",
              "       width=\"24px\">\n",
              "    <path d=\"M7,19H8.4L18.45,9,17,7.55,7,17.6ZM5,21V16.75L18.45,3.32a2,2,0,0,1,2.83,0l1.4,1.43a1.91,1.91,0,0,1,.58,1.4,1.91,1.91,0,0,1-.58,1.4L9.25,21ZM18.45,9,17,7.55Zm-12,3A5.31,5.31,0,0,0,4.9,8.1,5.31,5.31,0,0,0,1,6.5,5.31,5.31,0,0,0,4.9,4.9,5.31,5.31,0,0,0,6.5,1,5.31,5.31,0,0,0,8.1,4.9,5.31,5.31,0,0,0,12,6.5,5.46,5.46,0,0,0,6.5,12Z\"/>\n",
              "  </svg>\n",
              "    </button>\n",
              "    <script>\n",
              "      (() => {\n",
              "      const buttonEl =\n",
              "        document.querySelector('#id_d300cc29-cc99-4017-ade2-28b9509f142e button.colab-df-generate');\n",
              "      buttonEl.style.display =\n",
              "        google.colab.kernel.accessAllowed ? 'block' : 'none';\n",
              "\n",
              "      buttonEl.onclick = () => {\n",
              "        google.colab.notebook.generateWithVariable('log_odds');\n",
              "      }\n",
              "      })();\n",
              "    </script>\n",
              "  </div>\n",
              "\n",
              "    </div>\n",
              "  </div>\n"
            ],
            "application/vnd.google.colaboratory.intrinsic+json": {
              "type": "dataframe",
              "variable_name": "log_odds",
              "summary": "{\n  \"name\": \"log_odds\",\n  \"rows\": 31,\n  \"fields\": [\n    {\n      \"column\": \"Coefficient\",\n      \"properties\": {\n        \"dtype\": \"number\",\n        \"std\": 0.5425441190814436,\n        \"min\": -1.0072407796597083,\n        \"max\": 1.781263213876739,\n        \"num_unique_values\": 30,\n        \"samples\": [\n          -0.0028553217519798986,\n          -0.0004717508804668086,\n          -1.0072407796597083\n        ],\n        \"semantic_type\": \"\",\n        \"description\": \"\"\n      }\n    },\n    {\n      \"column\": \"Bias\",\n      \"properties\": {\n        \"dtype\": \"number\",\n        \"std\": null,\n        \"min\": 0.04003268450333865,\n        \"max\": 0.04003268450333865,\n        \"num_unique_values\": 1,\n        \"samples\": [\n          0.04003268450333865\n        ],\n        \"semantic_type\": \"\",\n        \"description\": \"\"\n      }\n    }\n  ]\n}"
            }
          },
          "metadata": {},
          "execution_count": 19
        }
      ]
    },
    {
      "cell_type": "code",
      "source": [],
      "metadata": {
        "id": "9Tvu-1GU15H2"
      },
      "execution_count": null,
      "outputs": []
    }
  ]
}